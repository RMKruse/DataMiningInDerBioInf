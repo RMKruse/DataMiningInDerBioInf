{
 "cells": [
  {
   "cell_type": "markdown",
   "metadata": {},
   "source": [
    "# Rechnerubungen zur Vorlesung “Data Mining in ¨der Bioinformatik”\n",
    "Veranstalter: **Peter Meinicke** </br>\n",
    "Abgabe durch: **Kruse**"
   ]
  },
  {
   "cell_type": "markdown",
   "metadata": {},
   "source": [
    "\n",
    "## Blatt 1: Mathe- und Python(numpy)-Grundlagen\n"
   ]
  },
  {
   "cell_type": "markdown",
   "metadata": {},
   "source": [
    "### Aufgabe 1: Eigenwerte und Eigenvektoren\n",
    "\n",
    "Fur einen Eigenwert $\\lambda_{i}$ der Matrix $\\boldsymbol{A}$ und den dazugehörigen Eigenvektor $\\boldsymbol{u}_i$ gilt:\n",
    "\n",
    "$$\n",
    "    \\boldsymbol{A} \\boldsymbol{u}_i = \\lambda_{i} \\boldsymbol{u}_i\n",
    "$$"
   ]
  },
  {
   "cell_type": "markdown",
   "metadata": {},
   "source": [
    "#### a) \n",
    "Bestimme die Eigenwerte $\\lambda_{i}$ der Matrix\n",
    "\n",
    "$$\n",
    "    \\boldsymbol{A} = \\begin{pmatrix} 7 & 4 \\\\ 4 & 13 \\end{pmatrix}\n",
    "$$\n",
    "\n",
    "sowie die dazugehörigen Eigenvektoren $u_i$ erst analytisch (schriftlich) dann numerisch in Python mit `numpy`."
   ]
  },
  {
   "cell_type": "markdown",
   "metadata": {},
   "source": [
    "---\n",
    "\n",
    "# Lösung\n",
    "\n",
    "**Schriftliche Bestimmung**\n",
    "\n",
    "## 1. Schritt: Eigenwerte\n",
    "\n",
    "Finden jenes $\\lambda \\in \\mathbb{C}$ welches erlaubt, dass $\\boldsymbol{A} u = \\lambda u$ für ein beliebigen \"non-zero\" Vektor $u$.\n",
    "$$\\boldsymbol{A} u = \\lambda u$$\n",
    "\n",
    "Umschreiben der Gleichung in:\n",
    "$$\n",
    "\\begin{equation}\n",
    "(\\boldsymbol{A} - \\mathbb{I} \\lambda) u = \\boldsymbol{0}\n",
    "\\end{equation}\n",
    "$$\n",
    "\n",
    "Finden aller $\\lambda$, sodass (1) gilt:\n",
    "$$\n",
    "\\begin{align*}\n",
    "     (\\boldsymbol{A} - \\mathbb{I} \\lambda) &= \n",
    "     \\begin{pmatrix}\n",
    "          7 & 4 \\\\ 4 & 13\n",
    "     \\end{pmatrix} -\n",
    "     \\begin{pmatrix}\n",
    "          1 & 0 \\\\ 0 & 1\n",
    "     \\end{pmatrix} \\lambda \\\\\n",
    "     & = \n",
    "     \\begin{pmatrix}\n",
    "          - \\lambda + 7 & 4 \\\\ 4 & - \\lambda + 13\n",
    "     \\end{pmatrix}\n",
    "\\end{align*}\n",
    "$$\n",
    "\n",
    "Umformuliert erhalten wir hier:\n",
    "$$\n",
    "\\begin{vmatrix}\n",
    "     - \\lambda + 7 & 4 \\\\ 4 & - \\lambda + 13\n",
    "\\end{vmatrix} = 0\n",
    "$$\n",
    "$$\n",
    "\\lambda^{2} - 20 \\lambda + 75\n",
    "$$\n",
    "\n",
    "\n",
    "Dadurch erhalten wir das charakteristische Polynom der Matrix $\\boldsymbol{A}$, welches wir nun gleich $0$ setzen und auflösen.\n",
    "$$\n",
    "\\lambda^{2} - 20 \\lambda + 75 = 0\n",
    "$$\n",
    "\n",
    "Das schöne ist hier, dass die linke Seite sich umfaktorisieren lassen kann in ein Produkt zweier Terme\n",
    "$$\n",
    "(\\lambda -15) (\\lambda-5) = 0\n",
    "$$\n",
    "\n",
    "Aus dieser Formulierung können einfach aus den beiden Teilen die jeweiligen Eigenwerte von \n",
    "$\\lambda_1 = 15$ und $\\lambda_2 = 5$ ablesen. \n",
    "\n",
    "\n",
    "## 2. Schritt: Eigenvektoren\n",
    "\n",
    "### Eigenvektor $u_1$\n",
    "\n",
    "Wir setzen nun die eigenwerte in (1) ein und erhalten\n",
    "$$\n",
    "     \\begin{pmatrix}     \n",
    "          - \\lambda + 7 & 4 \\\\ 4 & - \\lambda + 13\n",
    "     \\end{pmatrix} \\boldsymbol{u} = 0\n",
    "$$\n",
    "\n",
    "$\\lambda$ zu erst durch den ersten Eigenwert $15$ substituieren, sodass das folgende ergibt\n",
    "$$\n",
    "     \\begin{pmatrix}     \n",
    "          - \\lambda + 7 & 4 \\\\ 4 & - \\lambda + 13\n",
    "     \\end{pmatrix} \\boldsymbol{u} =\n",
    "     \\begin{pmatrix}     \n",
    "          - 15 + 7 & 4 \\\\ 4 & - 15 + 13\n",
    "     \\end{pmatrix} \\boldsymbol{u} = \n",
    "     \\begin{pmatrix}     \n",
    "          -8 & 4 \\\\ 4 & -2\n",
    "     \\end{pmatrix} \\boldsymbol{u} = \n",
    "     \\begin{pmatrix}     \n",
    "          0 \\\\ 0\n",
    "     \\end{pmatrix}\n",
    "$$\n",
    "\n",
    "Eine Lösung dieses Problems ist gegeben durch\n",
    "$$\n",
    "     \\begin{pmatrix}     \n",
    "          1 & -\\frac{1}{2} \\\\0  & 0\n",
    "     \\end{pmatrix}\n",
    "     \\begin{pmatrix}     \n",
    "          u_1 \\\\ u_2 \n",
    "     \\end{pmatrix} = \n",
    "     \\begin{pmatrix}     \n",
    "          0 \\\\ 0\n",
    "     \\end{pmatrix}\n",
    "$$\n",
    "\n",
    "Die skalar-Gleichung des Systems kann wie folgt dargestellt werden als\n",
    "$$\n",
    "u_1 - \\frac{u_2}{2} = 0\n",
    "$$\n",
    "\n",
    "Daher wissen wir, dass $u$ wie folgt aussehen muss\n",
    "$$\n",
    "     \\boldsymbol{u} = \n",
    "     \\begin{pmatrix}     \n",
    "          u_1 \\\\ u_2 \n",
    "     \\end{pmatrix} = \n",
    "     \\begin{pmatrix}     \n",
    "          \\frac{u_2}{2} \\\\ u_2 \n",
    "     \\end{pmatrix}\n",
    "$$\n",
    "\n",
    "Lassen wir nun $u_2 = 1$ in $\\boldsymbol{u}$ sein, finden wir dass der Eigenvektor der Matrix $\\boldsymbol{A}$ assoziert mit dem Eigenvalue $\\lambda_1 = 15$ gegeben ist als\n",
    "\n",
    "$$\n",
    "     u_1 = \n",
    "     \\begin{pmatrix}     \n",
    "          \\frac{1}{2} \\\\ 1 \n",
    "     \\end{pmatrix}\n",
    "$$\n",
    "\n",
    "### Eigenvektor $u_2$\n",
    "\n",
    "Setzen wir als Eigenwert $\\lambda = 5$ ein und wiederholen das Vorgehen wie bei Eigenvektor $u_1$ erhalten wir den foldenden Eigenvektor\n",
    "$$\n",
    "     u_2 = \n",
    "     \\begin{pmatrix}     \n",
    "          -2 \\\\ 1 \n",
    "     \\end{pmatrix}\n",
    "$$\n",
    "\n",
    "---\n",
    "\n",
    "# Python Lösung"
   ]
  },
  {
   "cell_type": "code",
   "execution_count": 72,
   "metadata": {},
   "outputs": [],
   "source": [
    "import numpy as np"
   ]
  },
  {
   "cell_type": "code",
   "execution_count": 73,
   "metadata": {},
   "outputs": [],
   "source": [
    "a_mat = np.matrix([[7, 4], [4, 13]])"
   ]
  },
  {
   "cell_type": "markdown",
   "metadata": {},
   "source": [
    "Einfache Lösung:"
   ]
  },
  {
   "cell_type": "code",
   "execution_count": 74,
   "metadata": {},
   "outputs": [
    {
     "name": "stdout",
     "output_type": "stream",
     "text": [
      "Die Eigenwerte der Matrix A sind gegeben als: \n",
      " [ 5. 15.] \n",
      "Die Eigenvektoren sind gegeben als: \n",
      " [[-0.89442719 -0.4472136 ]\n",
      " [ 0.4472136  -0.89442719]] \n",
      "Hinweis: Reihenfolge natürlich nicht wirklich in Ordnung, da immer erste der größere Eigenwert genannt werden sollte.\n"
     ]
    }
   ],
   "source": [
    "a_mat_eigval, a_mat_eigvec = np.linalg.eig(a_mat)\n",
    "print(\"Die Eigenwerte der Matrix A sind gegeben als: \\n\", a_mat_eigval, \n",
    "      \"\\nDie Eigenvektoren sind gegeben als: \\n\", a_mat_eigvec, \n",
    "      \"\\nHinweis: Reihenfolge natürlich nicht wirklich in Ordnung, da immer erste der größere Eigenwert genannt werden sollte.\")"
   ]
  },
  {
   "cell_type": "markdown",
   "metadata": {},
   "source": [
    "\n",
    "---\n",
    "\n",
    "#### b) \n",
    "Stelle den Vektor $x = \\left[3, 1\\right]^T$ als Linearkombination der Eigenvektoren dar\n",
    "(schriftlich). Wie sehen generell die Eigenwerte und Eigenvektoren einer Diagonnalmatrix aus? Betrachte als Beispiel\n",
    "$$\n",
    "    \\boldsymbol{D} = \n",
    "                    \\begin{pmatrix}\n",
    "                        3 & 0 \\\\\n",
    "                        0 & 1 \n",
    "                    \\end{pmatrix}\n",
    "$$"
   ]
  },
  {
   "cell_type": "markdown",
   "metadata": {},
   "source": [
    "\n",
    "---\n",
    "\n",
    "# Lösung\n",
    "\n",
    "Generell, sind die Eigenwerte einer Diagonalmatrix gleich den Einträgen auf den Hauptdiagonalen, während die Eigenvektoren gleich den Vektoren in jeder Spalte der Matrix entsprechen. In unserem Beispiel gilt daher\n",
    "$$ \n",
    "D = \n",
    "\\begin{pmatrix}     \n",
    "    3 & 0 \\\\ 0 & 1\n",
    "\\end{pmatrix}\n",
    "$$\n",
    "\n",
    "Eigenwerte: $\\lambda_1 = 3, \\lambda_2 = 1$\n",
    "Eigenvektoren: $u_1 = (1, 0), u_2 = (0, 1).$\n",
    "\n",
    "\n",
    "---\n"
   ]
  },
  {
   "cell_type": "markdown",
   "metadata": {},
   "source": [
    "### Aufgabe 2: Zufallsdaten\n",
    "\n",
    "Generiere einen kunstlichen 2D-Datensatz mit zun zunächst 100 Punkten gemaß einer uniformen Verteilung mittels `x_data_mat = np.random.rand(n points, n dims)`, wobei ein Datenpunkt einem Zeilenvektor in der Datenmatrix entspricht. Visualisiere die Punkte mittels der Funktion plot. Zuvor die Funktion mit from matplotlib.pyplot import plot importieren. Verschiebe alle Punkte so, dass der Mittelwertsvektor der resultierenden Punkte der Nullvektor ist (Tip: s. Funktion np.mean). Drehe diese Punkte anschliessend mittels einer Rotationsmatrix (Variablenname: r rot mat) \n",
    "$$\n",
    "    \\boldsymbol{R} = \n",
    "                    \\begin{pmatrix}\n",
    "                        \\cos \\alpha & - \\sin \\alpha \\\\\n",
    "                        \\sin \\alpha & \\cos \\alpha \n",
    "                    \\end{pmatrix}\n",
    "$$\n",
    "\n",
    "und visualisiere die gedrehten Punkte. Was ist aufgrund der Repräsentation der Datenpunkte durch Zeilenvektoren bei der Rotation zu beachten? Schätze die\n",
    "Varianz der resultierenden x1-Komponente, also der ersten Spaltendimension der rotierten Datenmatrix. Fur welches $\\alpha$ (Variablenname: alpha angle) wird diese\n",
    "Varianz maximal? Teste dies mit einer Winkelauflösung von einem Grad (Winkelmaß!) und stelle die Varianz in Abhängigkeit vom Winkel mit plot als Funktion\n",
    "dar.\n",
    "\n",
    "Wiederhole das Experiment fur weitere 10 Zufallsdatensätze und erhöhe danach die Anzahl der Datenpunkte schrittweise auf $n = 1000, 10000, 100000$. Was beobachtest Du bei den Resultaten, wenn Du fur jedes $n$ jeweils 10 Zufallsdatensätze probierst? Was wurde man bezüglich des varianzmaximierenden Winkels erwarten, was zeigen die entsprechenden Funktionsplots? :-( Was wären theoretisch die Winkel, fur die die Varianz maximal wird? Berechne dazu schriftlich den Erwartungswert der quadrierten x1-Komponente, die aus der Rotation um Winkel \\alpha hervorgeht (s. Varianz-Definition!). Tip: dabei wird die\n",
    "Wahrscheinlichkeitsdichte p(x) der zugrundeliegenden uniformen Verteilung der Datenerzeugung benötigt."
   ]
  },
  {
   "cell_type": "markdown",
   "metadata": {},
   "source": [
    "\n",
    "--- \n",
    "\n",
    "# Lösung:"
   ]
  },
  {
   "cell_type": "code",
   "execution_count": 75,
   "metadata": {},
   "outputs": [],
   "source": [
    "import numpy as np\n",
    "import matplotlib.pyplot as plt"
   ]
  },
  {
   "cell_type": "code",
   "execution_count": 76,
   "metadata": {},
   "outputs": [],
   "source": [
    "n_points = 2\n",
    "n_dims = 3\n",
    "x_data_mat = np.random.rand(n_points, n_dims)\n",
    "# x_data_mat.shape"
   ]
  },
  {
   "cell_type": "code",
   "execution_count": 77,
   "metadata": {},
   "outputs": [
    {
     "data": {
      "image/png": "[encoded data removed]",
      "text/plain": [
       "<Figure size 432x288 with 1 Axes>"
      ]
     },
     "metadata": {
      "needs_background": "light"
     },
     "output_type": "display_data"
    }
   ],
   "source": [
    "plot = plt.plot(x_data_mat)\n",
    "plt.show()"
   ]
  },
  {
   "cell_type": "code",
   "execution_count": 78,
   "metadata": {},
   "outputs": [],
   "source": [
    "# Damit der Mittelwert der Punkte der Null Vector (0, 0)^T ist\n",
    "# Verschieben kann viel bedeuteten, einfach Lösung: Mittelwert Abziehen:\n",
    "mu_x0 = np.mean(x_data_mat[0])\n",
    "mu_x1 = np.mean(x_data_mat[1])\n",
    "x_data_mat[0] -= mu_x0\n",
    "x_data_mat[1] -= mu_x1"
   ]
  },
  {
   "cell_type": "code",
   "execution_count": 79,
   "metadata": {},
   "outputs": [
    {
     "data": {
      "image/png": "[encoded data removed]",
      "text/plain": [
       "<Figure size 432x288 with 1 Axes>"
      ]
     },
     "metadata": {
      "needs_background": "light"
     },
     "output_type": "display_data"
    }
   ],
   "source": [
    "plot2 = plt.plot(x_data_mat)\n",
    "plt.show()"
   ]
  },
  {
   "cell_type": "code",
   "execution_count": 80,
   "metadata": {},
   "outputs": [],
   "source": [
    "# Rotationsmatrix\n",
    "def r_rot_mat(alpha_angle):\n",
    "    out = np.matrix([[np.cos(alpha_angle), - np.sin(alpha_angle)], [np.sin(alpha_angle), np.cos(alpha_angle)]])\n",
    "    return out"
   ]
  },
  {
   "cell_type": "code",
   "execution_count": 81,
   "metadata": {},
   "outputs": [
    {
     "data": {
      "text/plain": [
       "(array([[-0.19273795,  0.15764907,  0.03508888],\n",
       "        [-0.19888123,  0.08017035,  0.11871088]]),\n",
       " matrix([[ 0.19273795, -0.15764907, -0.03508888],\n",
       "         [ 0.19888123, -0.08017035, -0.11871088]]))"
      ]
     },
     "execution_count": 81,
     "metadata": {},
     "output_type": "execute_result"
    }
   ],
   "source": [
    "R = r_rot_mat(alpha_angle=np.pi)\n",
    "x_data_new_mat = np.matmul(R, x_data_mat)\n",
    "x_data_mat, x_data_new_mat"
   ]
  },
  {
   "cell_type": "code",
   "execution_count": 110,
   "metadata": {},
   "outputs": [],
   "source": [
    "# Test verschiedener Alphas\n",
    "alpha_vec = np.linspace(-2, 2, num=2001) * np.pi\n",
    "ergebnisse = []\n",
    "traces = []\n",
    "for i in alpha_vec:\n",
    "    temp_r = r_rot_mat(alpha_angle= i)\n",
    "    temp_tr = np.trace(temp_r)\n",
    "    traces.append(temp_tr)\n",
    "    temp_m = np.matmul(temp_r, x_data_mat)\n",
    "    temp = np.var(temp_m[0])\n",
    "    ergebnisse.append(temp)"
   ]
  },
  {
   "cell_type": "code",
   "execution_count": 115,
   "metadata": {},
   "outputs": [
    {
     "data": {
      "text/plain": [
       "[<matplotlib.lines.Line2D at 0x10f163850>]"
      ]
     },
     "execution_count": 115,
     "metadata": {},
     "output_type": "execute_result"
    },
    {
     "data": {
      "image/png": "[encoded data removed]",
      "text/plain": [
       "<Figure size 432x288 with 1 Axes>"
      ]
     },
     "metadata": {
      "needs_background": "light"
     },
     "output_type": "display_data"
    }
   ],
   "source": [
    "alpha_vec, ergebnisse\n",
    "# pi - opt2 = opt 1 // 9 und 19\n",
    "plt.plot(ergebnisse)\n",
    "# plt.plot(np.pi)"
   ]
  },
  {
   "cell_type": "code",
   "execution_count": 100,
   "metadata": {},
   "outputs": [
    {
     "data": {
      "text/plain": [
       "[-2.0,\n",
       " -1.902113032590307,\n",
       " -1.6180339887498947,\n",
       " -1.175570504584946,\n",
       " -0.6180339887498947,\n",
       " 1.2246467991473532e-16,\n",
       " 0.6180339887498953,\n",
       " 1.1755705045849467,\n",
       " 1.618033988749895,\n",
       " 1.9021130325903073,\n",
       " 2.0,\n",
       " 1.902113032590307,\n",
       " 1.6180339887498942,\n",
       " 1.175570504584946,\n",
       " 0.6180339887498941,\n",
       " 1.2246467991473532e-16,\n",
       " -0.6180339887498951,\n",
       " -1.175570504584947,\n",
       " -1.6180339887498947,\n",
       " -1.9021130325903073,\n",
       " -2.0]"
      ]
     },
     "execution_count": 100,
     "metadata": {},
     "output_type": "execute_result"
    }
   ],
   "source": [
    "traces"
   ]
  },
  {
   "cell_type": "code",
   "execution_count": 19,
   "metadata": {},
   "outputs": [
    {
     "data": {
      "text/plain": [
       "(0.4121184852417566, -0.9111302618846769, -0.4121184852417566)"
      ]
     },
     "execution_count": 19,
     "metadata": {},
     "output_type": "execute_result"
    }
   ],
   "source": [
    "np.sin(9), np.cos(9), -np.sin(9)"
   ]
  },
  {
   "cell_type": "code",
   "execution_count": 91,
   "metadata": {},
   "outputs": [
    {
     "data": {
      "text/plain": [
       "(matrix([[ 0.80901699,  0.58778525],\n",
       "         [-0.58778525,  0.80901699]]),\n",
       " matrix([[-0.30901699, -0.95105652],\n",
       "         [ 0.95105652, -0.30901699]]),\n",
       " matrix([[-0.30901699,  0.95105652],\n",
       "         [-0.95105652, -0.30901699]]))"
      ]
     },
     "execution_count": 91,
     "metadata": {},
     "output_type": "execute_result"
    }
   ],
   "source": [
    "r_rot_mat(-0.62831853), r_rot_mat(1.88495559),(np.linalg.inv(r_rot_mat(1.88495559)))"
   ]
  },
  {
   "cell_type": "code",
   "execution_count": 88,
   "metadata": {},
   "outputs": [
    {
     "data": {
      "text/plain": [
       "(0.7265425291006559, 0.32491969036708773)"
      ]
     },
     "execution_count": 88,
     "metadata": {},
     "output_type": "execute_result"
    }
   ],
   "source": [
    "((0.58778525 / 0.80901699),  (0.30901699/0.95105652))"
   ]
  },
  {
   "cell_type": "markdown",
   "metadata": {},
   "source": [
    "## Antwort:\n",
    "\n"
   ]
  },
  {
   "cell_type": "markdown",
   "metadata": {},
   "source": [
    "## Aufgabe 3: Kovarianz\n",
    "\n",
    "Was genau macht die Funktion `c_cov_mat = np.cov(x data mat, bias=True, rowvar=False)` (Formel)? \n",
    "Bestimme für die Datensätze der vorherigen Aufgabe und die jeweils entsprechende Matrix $\\boldsymbol{C}$ (`c cov mat`) den Vektor $v = \\left[\\cos \\alpha, \\sin  \\alpha \\right]^T$ (Variablenname: `dir vec`) mit Winkel $\\alpha$ so, dass\n",
    "$$\n",
    "\\boldsymbol v^T \\boldsymbol C \\boldsymbol v\n",
    "$$\n",
    "maximal wird. Begründe schriftlich, warum diese Aufgabe äquivalent zur vorherigen ist."
   ]
  },
  {
   "cell_type": "markdown",
   "metadata": {},
   "source": [
    "# Antwort\n",
    "\n",
    "Die Funktion berechnet die Covarianz basierend auf den Daten der Daten Matrix. Wichtig hierbei ist, dass der Bias=True gesetzt ist, was bedeutet, dass hier die korrigiert Stichprobenkovarianz berechnet wird.\n",
    "$$\n",
    "    \\hat{\\sigma}_{xy} = \\frac{1}{n-1}\\sum_{i=1}^n{(x_i-\\bar{x}) (y_i-\\bar{y})}.\n",
    "$$"
   ]
  },
  {
   "cell_type": "markdown",
   "metadata": {},
   "source": []
  }
 ],
 "metadata": {
  "kernelspec": {
   "display_name": "Python 3.9.7 ('tensorflow')",
   "language": "python",
   "name": "python3"
  },
  "language_info": {
   "codemirror_mode": {
    "name": "ipython",
    "version": 3
   },
   "file_extension": ".py",
   "mimetype": "text/x-python",
   "name": "python",
   "nbconvert_exporter": "python",
   "pygments_lexer": "ipython3",
   "version": "3.9.7"
  },
  "orig_nbformat": 4,
  "vscode": {
   "interpreter": {
    "hash": "4bd624a0593993fe43ac4046b27b898fb2ef75c21c08f81e89e64ea0f51df676"
   }
  }
 },
 "nbformat": 4,
 "nbformat_minor": 2
}
