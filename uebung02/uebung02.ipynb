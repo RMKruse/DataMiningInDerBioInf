{
 "cells": [
  {
   "cell_type": "markdown",
   "metadata": {},
   "source": [
    "# Rechnerübungen zur Vorlesung \"Datamining in der Bioinformatik\""
   ]
  },
  {
   "cell_type": "markdown",
   "metadata": {},
   "source": [
    "Veranstalter: **Peter Meinicke** </br>\n",
    "Abgabe durch: **Kruse**"
   ]
  },
  {
   "cell_type": "markdown",
   "metadata": {},
   "source": [
    "## Blatt 2: Hauptkomponentenanalyse (PCA)"
   ]
  },
  {
   "cell_type": "markdown",
   "metadata": {},
   "source": [
    "### Aufgabe 1: Eigenvektorbestimmung\n",
    "Wiederhole das Experiment aus Aufgabe 3 von Blatt 1"
   ]
  },
  {
   "cell_type": "markdown",
   "metadata": {},
   "source": [
    "#### a)\n",
    "\n",
    "generiere die Daten jetzt jedoch mit\n",
    "`x data mat = np.random.rand(n points, n dims) @ a trans mat` und a trans `mat = np.array([[0.25, -0.433], [1.299, 0.75]])`. Was bebobachtest Du im Vergleich zu dem vorherigen Experiment?\n"
   ]
  },
  {
   "cell_type": "code",
   "execution_count": null,
   "metadata": {},
   "outputs": [],
   "source": []
  },
  {
   "cell_type": "markdown",
   "metadata": {},
   "source": [
    "#### b)\n",
    "\n",
    "Betrachte als Alternative zu dem in Aufgabe 3 praktizierten Verfahren ein iteratives Schema mit folgenden zwei Schritten:\n",
    "$$\n",
    "\\begin{align*}\n",
    "\\boldsymbol{w}_i  &= \\boldsymbol{C} \\boldsymbol{v}_{i - 1} \\\\\n",
    "\\boldsymbol{v}_i  &= \\boldsymbol{w}_i /  || \\boldsymbol{w}_{i} ||\n",
    "\\end{align*} \n",
    "$$\n",
    "\n",
    "fur $i = 1, \\dots, m.$ Wiederhole das gesamte Schema 10 Mal und beginne jeweils mit einem zufällig gewählten Richtungsvektor $v_0$. Was beobachtest Du fur eine passende Wahl von $m$? Wie läßt sich die Konvergenz des Verfahrens feststellen bzw. “monitoren”? Tip: fur das Skalarprodukt (`np.dot`) zweier Vektoren `a` und\n",
    "`b`gilt:\n",
    "$$\n",
    "    a^T b = ||a|| ||b|| \\cos \\phi\n",
    "$$\n",
    "wobei $\\phi$ den Winkel zwischen beiden Vektoren bezeichnet."
   ]
  },
  {
   "cell_type": "code",
   "execution_count": null,
   "metadata": {},
   "outputs": [],
   "source": []
  },
  {
   "cell_type": "markdown",
   "metadata": {},
   "source": [
    "#### c)\n",
    "\n",
    "Zeige schriftlich, dass die Summe der Eigenwerte der (geschätzten) Kovarianzmatrix, d.h. die Gesamtvarianz oder totale Varianz, dem mittleren quadratischen\n",
    "Abstand der Datenpunkte vom Mittelwertsvektor $m$\n",
    "$$\n",
    "\\dfrac{1}{n} \\sum_{i=1}^{n} ||x_i - m||^2\n",
    "$$\n",
    "\n",
    "enspricht. Tip: die Summe der Eigenwerte entspricht der Summe der Diagonalelemente der Kovarianzmatrix! Was beschreibt dann dementsprechend ein einzelner Eigenwert der Kovarianzmatrix?"
   ]
  },
  {
   "cell_type": "markdown",
   "metadata": {},
   "source": []
  },
  {
   "cell_type": "markdown",
   "metadata": {},
   "source": [
    "#### d) \n",
    "\n",
    "Wie könnte man ohne Verwendung der Funktion `np.linalg.eig` mehrere Eigenvektoren hintereinander mit dem iterativen Verfahren aus b) berechnen? Verwende dabei folgende Equivalenz\n",
    "$$\n",
    "C =  \\sum_{i=1}^{d} \\lambda_i u_i u_i^T .\n",
    "$$\n",
    "\n",
    "um den Anteil der Varianz in der schon gefundenen Richtung fur die Suche der nächsten Richtung zu eliminieren. Verwende dazu `np.outer` fur das äußere Produkt zwischen zwei Vektoren! Fasse die komplette Berechnung der Eigenwerte/vektoren in einer Funktion `power_method(x data mat, n evs)` zusammen, wobei n evs die vom Benutzer gewunschte Anzahl der “führenden” Eigenwerte/vektoren spezifiziert"
   ]
  },
  {
   "cell_type": "code",
   "execution_count": null,
   "metadata": {},
   "outputs": [],
   "source": []
  },
  {
   "cell_type": "markdown",
   "metadata": {},
   "source": [
    "----"
   ]
  },
  {
   "cell_type": "markdown",
   "metadata": {},
   "source": [
    "### Aufgabe 2: Versteckte Strukturen\n",
    "\n",
    "Lade die Datensätze `hidden1.csv` und `hidden2.csv` aus dem Verzeichnis http://www.gobics.de/peter/DMBdata/, welche jeweils uber 10 Dimensionen (Matrixspalten) verfugen. Verwende dabei die Funktion `np.genfromtxt`. Verwende im Folgenden fur die Visualisierungen `pyplot` mit `import matplotlib.pyplot\n",
    "as plt` als vorherigem Aufruf."
   ]
  },
  {
   "cell_type": "markdown",
   "metadata": {},
   "source": [
    "#### a) Histogramme: \n",
    "\n",
    "Untersuche die Verteilungen der einzelnen Dimensionen mittels der Funktion plt.hist und variiere die Anzahl der Histogrammbalken. Welcher Verteilung scheinen die Histogramme am ehesten zu entsprechen?"
   ]
  },
  {
   "cell_type": "code",
   "execution_count": null,
   "metadata": {},
   "outputs": [],
   "source": []
  },
  {
   "cell_type": "markdown",
   "metadata": {},
   "source": [
    "#### b) Scatterplots:\n",
    "\n",
    "Visualisiere jeweils zwei Dimensionen der Datenpunkte aus `hidden1.csv` mit `plt.plot`. Schreibe ein Skript, das alle möglichen Kombinationen von zwei Dimensionen als separate Plots in einer Grafik darstellt. Tip: Integriere die verschiedenen Scatterplots mittels `plt.subplot`. Geben die Scatterplots mehr Auskunft uber die Gesamtverteilung und eventuell vorhandene Zusammenhänge/Strukturen in den Daten?"
   ]
  },
  {
   "cell_type": "code",
   "execution_count": null,
   "metadata": {},
   "outputs": [],
   "source": []
  },
  {
   "cell_type": "markdown",
   "metadata": {},
   "source": [
    "#### c)  Eigenwertspektrum: \n",
    "Visualisiere die Eigenwerte der Kovarianzmatrix mit Balkendiagrammen (s. Funktion `plt.bar`). Achte auf eine von links nach rechts absteigende Reihenfolge der Eigenwerte. Wieviele relevante Hauptkomponentenrichtungen unter den Eigenvektoren der Kovarianzmatrix lassen sich vermuten?\n",
    "\n"
   ]
  },
  {
   "cell_type": "code",
   "execution_count": null,
   "metadata": {},
   "outputs": [],
   "source": []
  },
  {
   "cell_type": "markdown",
   "metadata": {},
   "source": [
    "#### d) Hauptkomponenten:\n",
    "\n",
    "Stelle die beiden Hauptkomponenten, die den größten Anteil der Varianz repräsentieren als Scatterplots dar. Zur Erinnerung: die Hauptkomponenten sind die Dimensionen, die aus der linearen Abbildung \n",
    "$$\n",
    "    z = U^T x\n",
    "$$\n",
    "\n",
    "der mittelwertzentrierten Datenvariablen resultieren, wobei $U$ die Eigenvektoren der Kovarianzmatrix als Spalten enthält. D.h. die i-te Hauptkomponente entspricht dem Skalarprodukt $u_i^T x$."
   ]
  },
  {
   "cell_type": "code",
   "execution_count": null,
   "metadata": {},
   "outputs": [],
   "source": []
  }
 ],
 "metadata": {
  "language_info": {
   "name": "python"
  },
  "orig_nbformat": 4
 },
 "nbformat": 4,
 "nbformat_minor": 2
}
